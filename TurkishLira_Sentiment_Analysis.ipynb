{
  "nbformat": 4,
  "nbformat_minor": 0,
  "metadata": {
    "colab": {
      "name": "TurkishLira_Sentiment_Analysis.ipynb",
      "provenance": [],
      "collapsed_sections": [],
      "authorship_tag": "ABX9TyO9Jqd7G/iqprgd6epXWtRi",
      "include_colab_link": true
    },
    "kernelspec": {
      "name": "python3",
      "display_name": "Python 3"
    },
    "language_info": {
      "name": "python"
    }
  },
  "cells": [
    {
      "cell_type": "markdown",
      "metadata": {
        "id": "view-in-github",
        "colab_type": "text"
      },
      "source": [
        "<a href=\"https://colab.research.google.com/github/ayyucedemirbas/TurkishLira_Sentiment_Analysis/blob/main/TurkishLira_Sentiment_Analysis.ipynb\" target=\"_parent\"><img src=\"https://colab.research.google.com/assets/colab-badge.svg\" alt=\"Open In Colab\"/></a>"
      ]
    },
    {
      "cell_type": "code",
      "execution_count": 39,
      "metadata": {
        "id": "22IIKZg_Cq8w"
      },
      "outputs": [],
      "source": [
        "import tensorflow as tf\n",
        "from tensorflow.keras.preprocessing.text import Tokenizer\n",
        "from tensorflow.keras.preprocessing.sequence import pad_sequences"
      ]
    },
    {
      "cell_type": "code",
      "source": [
        "sentences = [\"LIVE — Erdoğan: The amount of money put into the new FX-protected Turkish lira deposit system by Turkish citizens has reached TL 203 billion ($14.9 billion) so far; TL 58 billion ($4.2 billion) of this amount was money transferred from foreign exchange accounts\",\n",
        "             \"After Turkish lira depricated dramatically, cat lovers in Turkey\",\n",
        "             \"The Turkish lira is collapsing. The peso is collapsing. Banks will seize assets and they're not gonna be able to afford the equity. Hodl digital currency instead. Buy bitcoin.\",\n",
        "             \"That anyone is still listening to Erdogan about the Turkish lira is remarkable. RTE's irrational interest rate ideas have TOASTED the Turkish lira, which has lost 44.7% of its value against the USD since Jan 1, 2021. The only way to save the pathetic lira is with a currency board\",\n",
        "             \"Istanbul blocking action today in Istanbul of the employees of Trendyol, Turkish online commerce platform, against the 11% salary increase while the official inflation of the Turkish Lira is higher than 20%.\",\n",
        "             \"1 US Dollar = 13.56 Turkish Lira Where are the cheerful idiots?\",\n",
        "             \"Turkish lira firms as minister sees limited inflation\",\n",
        "             \"The Turkish lira lost 50 percent of its value against the UK pound. The official inflation rate in Turkey was 36 percent. Yet BBC offered a rise of only 20 percent\",\n",
        "             \"It is clear Turkey’s economic management prioritizes keeping the U.S. dollar/Turkish lira rate at its current level of 13.5 until the tourism season. Will it work?\",\n",
        "             \"Since January 1, 2021, the Turkish lira has lost 44.6% of its value against the US dollar. President Erdogan's war on interest rates has created catastrophic collateral damage, leaving Turks and their Turkish lira bloodied.\",\n",
        "             \"TURKEY:  How Turkish Lira is stabilized, or a new Ponzi scheme\",\n",
        "             \"Year on year, you are better off holding Turkish lira than Bitcoin lmao\",\n",
        "             \"With the relative value of the Turkish lira dropping precipitously in recent years, euros and U.S. dollars gleaned from the international mobile gaming market are more precious than ever to Turkish game developers and the Turks in their employ.\",\n",
        "             \"Friday when Ethereum briefly became pegged to the Turkish Lira \",\n",
        "             \"Sinan is right to be worried about his future in Turkey: hundreds of top scholars have been either sacked, exiled, or imprisoned; the Turkish lira lost 70 percent of its value against the dollar; the economy tanked and poverty skyrocketed.\",\n",
        "             \"Turkish lira's losses become BBVA's gains\",\n",
        "             \"The Turkish lira lost 40%+ of its value against the USD last year. Finance experts - inside and outside Turkey - blame Erdogan's insistence on cutting interest rates. They forecast that the official inflation rate would likely rise to 50% or more in coming months\",\n",
        "             \"Since January 1, 2021, the Turkish lira has lost nearly 50% of its value against the US dollar.\",\n",
        "             \"Update on the race of potentially worthless #currencies: Who would’ve thought the Turkish #Lira would seem so rock solid stable\",\n",
        "             \"Turks are rapidly buying into cryptocurrency as the Turkish Lira tumbles\",\n",
        "             \"Wouldn't it be wild if the Turkish Lira was devaluing due to money printing, but they were printing that money to buy #bitcoin and nobody knew. If it hasn't happened now, it'll happen one day.\",\n",
        "             \"Update on the ongoing race between potentially worthless #currencies: with the latest selloff #Bitcoin is now down more than the Turkish #Lira\"\n",
        "            ]"
      ],
      "metadata": {
        "id": "C5KKuDgqCzhF"
      },
      "execution_count": 40,
      "outputs": []
    },
    {
      "cell_type": "code",
      "source": [
        "tokenizer = Tokenizer(num_words=100, lower= 1, oov_token=\"<OOV>\")\n",
        "tokenizer.fit_on_texts(sentences)\n",
        "word_index = tokenizer.word_index\n",
        "print(word_index)"
      ],
      "metadata": {
        "colab": {
          "base_uri": "https://localhost:8080/"
        },
        "id": "CE214zqIEkPA",
        "outputId": "524cc475-b352-466a-b760-cb43732bf1f6"
      },
      "execution_count": 41,
      "outputs": [
        {
          "output_type": "stream",
          "name": "stdout",
          "text": [
            "{'<OOV>': 1, 'the': 2, 'turkish': 3, 'lira': 4, 'of': 5, 'is': 6, 'to': 7, 'in': 8, 'and': 9, 'its': 10, 'value': 11, 'against': 12, 'lost': 13, 'has': 14, 'turkey': 15, 'dollar': 16, 'on': 17, 'money': 18, 'billion': 19, 'bitcoin': 20, 'rate': 21, '1': 22, 'inflation': 23, 'than': 24, 'are': 25, 'percent': 26, 'it': 27, 'was': 28, 'be': 29, 'that': 30, 'interest': 31, 'since': 32, '2021': 33, 'with': 34, 'a': 35, 'official': 36, 'us': 37, '50': 38, 'turks': 39, 'or': 40, 'year': 41, 'more': 42, 'amount': 43, 'into': 44, 'new': 45, 'tl': 46, 'so': 47, 'from': 48, 'collapsing': 49, 'will': 50, 'currency': 51, 'buy': 52, 'about': 53, 'have': 54, '44': 55, 'usd': 56, 'only': 57, 'istanbul': 58, '20': 59, '13': 60, 'as': 61, 'rise': 62, 'u': 63, 's': 64, 'january': 65, \"erdogan's\": 66, 'rates': 67, 'their': 68, 'they': 69, 'would': 70, 'update': 71, 'race': 72, 'potentially': 73, 'worthless': 74, 'currencies': 75, 'if': 76, 'printing': 77, 'now': 78, 'live': 79, '—': 80, 'erdoğan': 81, 'put': 82, 'fx': 83, 'protected': 84, 'deposit': 85, 'system': 86, 'by': 87, 'citizens': 88, 'reached': 89, '203': 90, '14': 91, '9': 92, 'far': 93, '58': 94, '4': 95, '2': 96, 'this': 97, 'transferred': 98, 'foreign': 99, 'exchange': 100, 'accounts': 101, 'after': 102, 'depricated': 103, 'dramatically': 104, 'cat': 105, 'lovers': 106, 'peso': 107, 'banks': 108, 'seize': 109, 'assets': 110, \"they're\": 111, 'not': 112, 'gonna': 113, 'able': 114, 'afford': 115, 'equity': 116, 'hodl': 117, 'digital': 118, 'instead': 119, 'anyone': 120, 'still': 121, 'listening': 122, 'erdogan': 123, 'remarkable': 124, \"rte's\": 125, 'irrational': 126, 'ideas': 127, 'toasted': 128, 'which': 129, '7': 130, 'jan': 131, 'way': 132, 'save': 133, 'pathetic': 134, 'board': 135, 'blocking': 136, 'action': 137, 'today': 138, 'employees': 139, 'trendyol': 140, 'online': 141, 'commerce': 142, 'platform': 143, '11': 144, 'salary': 145, 'increase': 146, 'while': 147, 'higher': 148, '56': 149, 'where': 150, 'cheerful': 151, 'idiots': 152, 'firms': 153, 'minister': 154, 'sees': 155, 'limited': 156, 'uk': 157, 'pound': 158, '36': 159, 'yet': 160, 'bbc': 161, 'offered': 162, 'clear': 163, 'turkey’s': 164, 'economic': 165, 'management': 166, 'prioritizes': 167, 'keeping': 168, 'at': 169, 'current': 170, 'level': 171, '5': 172, 'until': 173, 'tourism': 174, 'season': 175, 'work': 176, '6': 177, 'president': 178, 'war': 179, 'created': 180, 'catastrophic': 181, 'collateral': 182, 'damage': 183, 'leaving': 184, 'bloodied': 185, 'how': 186, 'stabilized': 187, 'ponzi': 188, 'scheme': 189, 'you': 190, 'better': 191, 'off': 192, 'holding': 193, 'lmao': 194, 'relative': 195, 'dropping': 196, 'precipitously': 197, 'recent': 198, 'years': 199, 'euros': 200, 'dollars': 201, 'gleaned': 202, 'international': 203, 'mobile': 204, 'gaming': 205, 'market': 206, 'precious': 207, 'ever': 208, 'game': 209, 'developers': 210, 'employ': 211, 'friday': 212, 'when': 213, 'ethereum': 214, 'briefly': 215, 'became': 216, 'pegged': 217, 'sinan': 218, 'right': 219, 'worried': 220, 'his': 221, 'future': 222, 'hundreds': 223, 'top': 224, 'scholars': 225, 'been': 226, 'either': 227, 'sacked': 228, 'exiled': 229, 'imprisoned': 230, '70': 231, 'economy': 232, 'tanked': 233, 'poverty': 234, 'skyrocketed': 235, \"lira's\": 236, 'losses': 237, 'become': 238, \"bbva's\": 239, 'gains': 240, '40': 241, 'last': 242, 'finance': 243, 'experts': 244, 'inside': 245, 'outside': 246, 'blame': 247, 'insistence': 248, 'cutting': 249, 'forecast': 250, 'likely': 251, 'coming': 252, 'months': 253, 'nearly': 254, 'who': 255, 'would’ve': 256, 'thought': 257, 'seem': 258, 'rock': 259, 'solid': 260, 'stable': 261, 'rapidly': 262, 'buying': 263, 'cryptocurrency': 264, 'tumbles': 265, \"wouldn't\": 266, 'wild': 267, 'devaluing': 268, 'due': 269, 'but': 270, 'were': 271, 'nobody': 272, 'knew': 273, \"hasn't\": 274, 'happened': 275, \"it'll\": 276, 'happen': 277, 'one': 278, 'day': 279, 'ongoing': 280, 'between': 281, 'latest': 282, 'selloff': 283, 'down': 284}\n"
          ]
        }
      ]
    },
    {
      "cell_type": "code",
      "source": [
        "sequences = tokenizer.texts_to_sequences(sentences)\n",
        "print(sentences)\n",
        "print(word_index)\n",
        "print(sequences)"
      ],
      "metadata": {
        "colab": {
          "base_uri": "https://localhost:8080/"
        },
        "id": "8mYCsp7CFJvW",
        "outputId": "4903b60c-d16b-4e06-b192-5ff428fd10a0"
      },
      "execution_count": 42,
      "outputs": [
        {
          "output_type": "stream",
          "name": "stdout",
          "text": [
            "['LIVE — Erdoğan: The amount of money put into the new FX-protected Turkish lira deposit system by Turkish citizens has reached TL 203 billion ($14.9 billion) so far; TL 58 billion ($4.2 billion) of this amount was money transferred from foreign exchange accounts', 'After Turkish lira depricated dramatically, cat lovers in Turkey', \"The Turkish lira is collapsing. The peso is collapsing. Banks will seize assets and they're not gonna be able to afford the equity. Hodl digital currency instead. Buy bitcoin.\", \"That anyone is still listening to Erdogan about the Turkish lira is remarkable. RTE's irrational interest rate ideas have TOASTED the Turkish lira, which has lost 44.7% of its value against the USD since Jan 1, 2021. The only way to save the pathetic lira is with a currency board\", 'Istanbul blocking action today in Istanbul of the employees of Trendyol, Turkish online commerce platform, against the 11% salary increase while the official inflation of the Turkish Lira is higher than 20%.', '1 US Dollar = 13.56 Turkish Lira Where are the cheerful idiots?', 'Turkish lira firms as minister sees limited inflation', 'The Turkish lira lost 50 percent of its value against the UK pound. The official inflation rate in Turkey was 36 percent. Yet BBC offered a rise of only 20 percent', 'It is clear Turkey’s economic management prioritizes keeping the U.S. dollar/Turkish lira rate at its current level of 13.5 until the tourism season. Will it work?', \"Since January 1, 2021, the Turkish lira has lost 44.6% of its value against the US dollar. President Erdogan's war on interest rates has created catastrophic collateral damage, leaving Turks and their Turkish lira bloodied.\", 'TURKEY:  How Turkish Lira is stabilized, or a new Ponzi scheme', 'Year on year, you are better off holding Turkish lira than Bitcoin lmao', 'With the relative value of the Turkish lira dropping precipitously in recent years, euros and U.S. dollars gleaned from the international mobile gaming market are more precious than ever to Turkish game developers and the Turks in their employ.', 'Friday when Ethereum briefly became pegged to the Turkish Lira ', 'Sinan is right to be worried about his future in Turkey: hundreds of top scholars have been either sacked, exiled, or imprisoned; the Turkish lira lost 70 percent of its value against the dollar; the economy tanked and poverty skyrocketed.', \"Turkish lira's losses become BBVA's gains\", \"The Turkish lira lost 40%+ of its value against the USD last year. Finance experts - inside and outside Turkey - blame Erdogan's insistence on cutting interest rates. They forecast that the official inflation rate would likely rise to 50% or more in coming months\", 'Since January 1, 2021, the Turkish lira has lost nearly 50% of its value against the US dollar.', 'Update on the race of potentially worthless #currencies: Who would’ve thought the Turkish #Lira would seem so rock solid stable', 'Turks are rapidly buying into cryptocurrency as the Turkish Lira tumbles', \"Wouldn't it be wild if the Turkish Lira was devaluing due to money printing, but they were printing that money to buy #bitcoin and nobody knew. If it hasn't happened now, it'll happen one day.\", 'Update on the ongoing race between potentially worthless #currencies: with the latest selloff #Bitcoin is now down more than the Turkish #Lira']\n",
            "{'<OOV>': 1, 'the': 2, 'turkish': 3, 'lira': 4, 'of': 5, 'is': 6, 'to': 7, 'in': 8, 'and': 9, 'its': 10, 'value': 11, 'against': 12, 'lost': 13, 'has': 14, 'turkey': 15, 'dollar': 16, 'on': 17, 'money': 18, 'billion': 19, 'bitcoin': 20, 'rate': 21, '1': 22, 'inflation': 23, 'than': 24, 'are': 25, 'percent': 26, 'it': 27, 'was': 28, 'be': 29, 'that': 30, 'interest': 31, 'since': 32, '2021': 33, 'with': 34, 'a': 35, 'official': 36, 'us': 37, '50': 38, 'turks': 39, 'or': 40, 'year': 41, 'more': 42, 'amount': 43, 'into': 44, 'new': 45, 'tl': 46, 'so': 47, 'from': 48, 'collapsing': 49, 'will': 50, 'currency': 51, 'buy': 52, 'about': 53, 'have': 54, '44': 55, 'usd': 56, 'only': 57, 'istanbul': 58, '20': 59, '13': 60, 'as': 61, 'rise': 62, 'u': 63, 's': 64, 'january': 65, \"erdogan's\": 66, 'rates': 67, 'their': 68, 'they': 69, 'would': 70, 'update': 71, 'race': 72, 'potentially': 73, 'worthless': 74, 'currencies': 75, 'if': 76, 'printing': 77, 'now': 78, 'live': 79, '—': 80, 'erdoğan': 81, 'put': 82, 'fx': 83, 'protected': 84, 'deposit': 85, 'system': 86, 'by': 87, 'citizens': 88, 'reached': 89, '203': 90, '14': 91, '9': 92, 'far': 93, '58': 94, '4': 95, '2': 96, 'this': 97, 'transferred': 98, 'foreign': 99, 'exchange': 100, 'accounts': 101, 'after': 102, 'depricated': 103, 'dramatically': 104, 'cat': 105, 'lovers': 106, 'peso': 107, 'banks': 108, 'seize': 109, 'assets': 110, \"they're\": 111, 'not': 112, 'gonna': 113, 'able': 114, 'afford': 115, 'equity': 116, 'hodl': 117, 'digital': 118, 'instead': 119, 'anyone': 120, 'still': 121, 'listening': 122, 'erdogan': 123, 'remarkable': 124, \"rte's\": 125, 'irrational': 126, 'ideas': 127, 'toasted': 128, 'which': 129, '7': 130, 'jan': 131, 'way': 132, 'save': 133, 'pathetic': 134, 'board': 135, 'blocking': 136, 'action': 137, 'today': 138, 'employees': 139, 'trendyol': 140, 'online': 141, 'commerce': 142, 'platform': 143, '11': 144, 'salary': 145, 'increase': 146, 'while': 147, 'higher': 148, '56': 149, 'where': 150, 'cheerful': 151, 'idiots': 152, 'firms': 153, 'minister': 154, 'sees': 155, 'limited': 156, 'uk': 157, 'pound': 158, '36': 159, 'yet': 160, 'bbc': 161, 'offered': 162, 'clear': 163, 'turkey’s': 164, 'economic': 165, 'management': 166, 'prioritizes': 167, 'keeping': 168, 'at': 169, 'current': 170, 'level': 171, '5': 172, 'until': 173, 'tourism': 174, 'season': 175, 'work': 176, '6': 177, 'president': 178, 'war': 179, 'created': 180, 'catastrophic': 181, 'collateral': 182, 'damage': 183, 'leaving': 184, 'bloodied': 185, 'how': 186, 'stabilized': 187, 'ponzi': 188, 'scheme': 189, 'you': 190, 'better': 191, 'off': 192, 'holding': 193, 'lmao': 194, 'relative': 195, 'dropping': 196, 'precipitously': 197, 'recent': 198, 'years': 199, 'euros': 200, 'dollars': 201, 'gleaned': 202, 'international': 203, 'mobile': 204, 'gaming': 205, 'market': 206, 'precious': 207, 'ever': 208, 'game': 209, 'developers': 210, 'employ': 211, 'friday': 212, 'when': 213, 'ethereum': 214, 'briefly': 215, 'became': 216, 'pegged': 217, 'sinan': 218, 'right': 219, 'worried': 220, 'his': 221, 'future': 222, 'hundreds': 223, 'top': 224, 'scholars': 225, 'been': 226, 'either': 227, 'sacked': 228, 'exiled': 229, 'imprisoned': 230, '70': 231, 'economy': 232, 'tanked': 233, 'poverty': 234, 'skyrocketed': 235, \"lira's\": 236, 'losses': 237, 'become': 238, \"bbva's\": 239, 'gains': 240, '40': 241, 'last': 242, 'finance': 243, 'experts': 244, 'inside': 245, 'outside': 246, 'blame': 247, 'insistence': 248, 'cutting': 249, 'forecast': 250, 'likely': 251, 'coming': 252, 'months': 253, 'nearly': 254, 'who': 255, 'would’ve': 256, 'thought': 257, 'seem': 258, 'rock': 259, 'solid': 260, 'stable': 261, 'rapidly': 262, 'buying': 263, 'cryptocurrency': 264, 'tumbles': 265, \"wouldn't\": 266, 'wild': 267, 'devaluing': 268, 'due': 269, 'but': 270, 'were': 271, 'nobody': 272, 'knew': 273, \"hasn't\": 274, 'happened': 275, \"it'll\": 276, 'happen': 277, 'one': 278, 'day': 279, 'ongoing': 280, 'between': 281, 'latest': 282, 'selloff': 283, 'down': 284}\n",
            "[[79, 80, 81, 2, 43, 5, 18, 82, 44, 2, 45, 83, 84, 3, 4, 85, 86, 87, 3, 88, 14, 89, 46, 90, 19, 91, 92, 19, 47, 93, 46, 94, 19, 95, 96, 19, 5, 97, 43, 28, 18, 98, 48, 99, 1, 1], [1, 3, 4, 1, 1, 1, 1, 8, 15], [2, 3, 4, 6, 49, 2, 1, 6, 49, 1, 50, 1, 1, 9, 1, 1, 1, 29, 1, 7, 1, 2, 1, 1, 1, 51, 1, 52, 20], [30, 1, 6, 1, 1, 7, 1, 53, 2, 3, 4, 6, 1, 1, 1, 31, 21, 1, 54, 1, 2, 3, 4, 1, 14, 13, 55, 1, 5, 10, 11, 12, 2, 56, 32, 1, 22, 33, 2, 57, 1, 7, 1, 2, 1, 4, 6, 34, 35, 51, 1], [58, 1, 1, 1, 8, 58, 5, 2, 1, 5, 1, 3, 1, 1, 1, 12, 2, 1, 1, 1, 1, 2, 36, 23, 5, 2, 3, 4, 6, 1, 24, 59], [22, 37, 16, 60, 1, 3, 4, 1, 25, 2, 1, 1], [3, 4, 1, 61, 1, 1, 1, 23], [2, 3, 4, 13, 38, 26, 5, 10, 11, 12, 2, 1, 1, 2, 36, 23, 21, 8, 15, 28, 1, 26, 1, 1, 1, 35, 62, 5, 57, 59, 26], [27, 6, 1, 1, 1, 1, 1, 1, 2, 63, 64, 16, 3, 4, 21, 1, 10, 1, 1, 5, 60, 1, 1, 2, 1, 1, 50, 27, 1], [32, 65, 22, 33, 2, 3, 4, 14, 13, 55, 1, 5, 10, 11, 12, 2, 37, 16, 1, 66, 1, 17, 31, 67, 14, 1, 1, 1, 1, 1, 39, 9, 68, 3, 4, 1], [15, 1, 3, 4, 6, 1, 40, 35, 45, 1, 1], [41, 17, 41, 1, 25, 1, 1, 1, 3, 4, 24, 20, 1], [34, 2, 1, 11, 5, 2, 3, 4, 1, 1, 8, 1, 1, 1, 9, 63, 64, 1, 1, 48, 2, 1, 1, 1, 1, 25, 42, 1, 24, 1, 7, 3, 1, 1, 9, 2, 39, 8, 68, 1], [1, 1, 1, 1, 1, 1, 7, 2, 3, 4], [1, 6, 1, 7, 29, 1, 53, 1, 1, 8, 15, 1, 5, 1, 1, 54, 1, 1, 1, 1, 40, 1, 2, 3, 4, 13, 1, 26, 5, 10, 11, 12, 2, 16, 2, 1, 1, 9, 1, 1], [3, 1, 1, 1, 1, 1], [2, 3, 4, 13, 1, 5, 10, 11, 12, 2, 56, 1, 41, 1, 1, 1, 9, 1, 15, 1, 66, 1, 17, 1, 31, 67, 69, 1, 30, 2, 36, 23, 21, 70, 1, 62, 7, 38, 40, 42, 8, 1, 1], [32, 65, 22, 33, 2, 3, 4, 14, 13, 1, 38, 5, 10, 11, 12, 2, 37, 16], [71, 17, 2, 72, 5, 73, 74, 75, 1, 1, 1, 2, 3, 4, 70, 1, 47, 1, 1, 1], [39, 25, 1, 1, 44, 1, 61, 2, 3, 4, 1], [1, 27, 29, 1, 76, 2, 3, 4, 28, 1, 1, 7, 18, 77, 1, 69, 1, 77, 30, 18, 7, 52, 20, 9, 1, 1, 76, 27, 1, 1, 78, 1, 1, 1, 1], [71, 17, 2, 1, 72, 1, 73, 74, 75, 34, 2, 1, 1, 20, 6, 78, 1, 42, 24, 2, 3, 4]]\n"
          ]
        }
      ]
    },
    {
      "cell_type": "code",
      "source": [
        "print(sequences[0])"
      ],
      "metadata": {
        "colab": {
          "base_uri": "https://localhost:8080/"
        },
        "id": "1G2RJdjdFcBL",
        "outputId": "95e7856d-46fe-4c1d-fa6b-54de041060cd"
      },
      "execution_count": 43,
      "outputs": [
        {
          "output_type": "stream",
          "name": "stdout",
          "text": [
            "[79, 80, 81, 2, 43, 5, 18, 82, 44, 2, 45, 83, 84, 3, 4, 85, 86, 87, 3, 88, 14, 89, 46, 90, 19, 91, 92, 19, 47, 93, 46, 94, 19, 95, 96, 19, 5, 97, 43, 28, 18, 98, 48, 99, 1, 1]\n"
          ]
        }
      ]
    },
    {
      "cell_type": "code",
      "source": [
        "print(sequences[1])"
      ],
      "metadata": {
        "colab": {
          "base_uri": "https://localhost:8080/"
        },
        "id": "i7_1N5OvFo9_",
        "outputId": "ca13ac2d-fb90-4765-cde6-ab37328b7912"
      },
      "execution_count": 44,
      "outputs": [
        {
          "output_type": "stream",
          "name": "stdout",
          "text": [
            "[1, 3, 4, 1, 1, 1, 1, 8, 15]\n"
          ]
        }
      ]
    },
    {
      "cell_type": "code",
      "source": [
        "# pre padding\n",
        "pre_pad = pad_sequences(sequences, padding='pre')\n",
        "print(\"\\nword_index = \", word_index)\n",
        "print(\"\\nsequences = \", sequences)\n",
        "print(\"\\npadded_seq = \" )\n",
        "print(pre_pad)"
      ],
      "metadata": {
        "colab": {
          "base_uri": "https://localhost:8080/"
        },
        "id": "TCaVI63QFpyH",
        "outputId": "e0dc0433-1df4-4d34-8c6b-b4f72406bcb3"
      },
      "execution_count": 45,
      "outputs": [
        {
          "output_type": "stream",
          "name": "stdout",
          "text": [
            "\n",
            "word_index =  {'<OOV>': 1, 'the': 2, 'turkish': 3, 'lira': 4, 'of': 5, 'is': 6, 'to': 7, 'in': 8, 'and': 9, 'its': 10, 'value': 11, 'against': 12, 'lost': 13, 'has': 14, 'turkey': 15, 'dollar': 16, 'on': 17, 'money': 18, 'billion': 19, 'bitcoin': 20, 'rate': 21, '1': 22, 'inflation': 23, 'than': 24, 'are': 25, 'percent': 26, 'it': 27, 'was': 28, 'be': 29, 'that': 30, 'interest': 31, 'since': 32, '2021': 33, 'with': 34, 'a': 35, 'official': 36, 'us': 37, '50': 38, 'turks': 39, 'or': 40, 'year': 41, 'more': 42, 'amount': 43, 'into': 44, 'new': 45, 'tl': 46, 'so': 47, 'from': 48, 'collapsing': 49, 'will': 50, 'currency': 51, 'buy': 52, 'about': 53, 'have': 54, '44': 55, 'usd': 56, 'only': 57, 'istanbul': 58, '20': 59, '13': 60, 'as': 61, 'rise': 62, 'u': 63, 's': 64, 'january': 65, \"erdogan's\": 66, 'rates': 67, 'their': 68, 'they': 69, 'would': 70, 'update': 71, 'race': 72, 'potentially': 73, 'worthless': 74, 'currencies': 75, 'if': 76, 'printing': 77, 'now': 78, 'live': 79, '—': 80, 'erdoğan': 81, 'put': 82, 'fx': 83, 'protected': 84, 'deposit': 85, 'system': 86, 'by': 87, 'citizens': 88, 'reached': 89, '203': 90, '14': 91, '9': 92, 'far': 93, '58': 94, '4': 95, '2': 96, 'this': 97, 'transferred': 98, 'foreign': 99, 'exchange': 100, 'accounts': 101, 'after': 102, 'depricated': 103, 'dramatically': 104, 'cat': 105, 'lovers': 106, 'peso': 107, 'banks': 108, 'seize': 109, 'assets': 110, \"they're\": 111, 'not': 112, 'gonna': 113, 'able': 114, 'afford': 115, 'equity': 116, 'hodl': 117, 'digital': 118, 'instead': 119, 'anyone': 120, 'still': 121, 'listening': 122, 'erdogan': 123, 'remarkable': 124, \"rte's\": 125, 'irrational': 126, 'ideas': 127, 'toasted': 128, 'which': 129, '7': 130, 'jan': 131, 'way': 132, 'save': 133, 'pathetic': 134, 'board': 135, 'blocking': 136, 'action': 137, 'today': 138, 'employees': 139, 'trendyol': 140, 'online': 141, 'commerce': 142, 'platform': 143, '11': 144, 'salary': 145, 'increase': 146, 'while': 147, 'higher': 148, '56': 149, 'where': 150, 'cheerful': 151, 'idiots': 152, 'firms': 153, 'minister': 154, 'sees': 155, 'limited': 156, 'uk': 157, 'pound': 158, '36': 159, 'yet': 160, 'bbc': 161, 'offered': 162, 'clear': 163, 'turkey’s': 164, 'economic': 165, 'management': 166, 'prioritizes': 167, 'keeping': 168, 'at': 169, 'current': 170, 'level': 171, '5': 172, 'until': 173, 'tourism': 174, 'season': 175, 'work': 176, '6': 177, 'president': 178, 'war': 179, 'created': 180, 'catastrophic': 181, 'collateral': 182, 'damage': 183, 'leaving': 184, 'bloodied': 185, 'how': 186, 'stabilized': 187, 'ponzi': 188, 'scheme': 189, 'you': 190, 'better': 191, 'off': 192, 'holding': 193, 'lmao': 194, 'relative': 195, 'dropping': 196, 'precipitously': 197, 'recent': 198, 'years': 199, 'euros': 200, 'dollars': 201, 'gleaned': 202, 'international': 203, 'mobile': 204, 'gaming': 205, 'market': 206, 'precious': 207, 'ever': 208, 'game': 209, 'developers': 210, 'employ': 211, 'friday': 212, 'when': 213, 'ethereum': 214, 'briefly': 215, 'became': 216, 'pegged': 217, 'sinan': 218, 'right': 219, 'worried': 220, 'his': 221, 'future': 222, 'hundreds': 223, 'top': 224, 'scholars': 225, 'been': 226, 'either': 227, 'sacked': 228, 'exiled': 229, 'imprisoned': 230, '70': 231, 'economy': 232, 'tanked': 233, 'poverty': 234, 'skyrocketed': 235, \"lira's\": 236, 'losses': 237, 'become': 238, \"bbva's\": 239, 'gains': 240, '40': 241, 'last': 242, 'finance': 243, 'experts': 244, 'inside': 245, 'outside': 246, 'blame': 247, 'insistence': 248, 'cutting': 249, 'forecast': 250, 'likely': 251, 'coming': 252, 'months': 253, 'nearly': 254, 'who': 255, 'would’ve': 256, 'thought': 257, 'seem': 258, 'rock': 259, 'solid': 260, 'stable': 261, 'rapidly': 262, 'buying': 263, 'cryptocurrency': 264, 'tumbles': 265, \"wouldn't\": 266, 'wild': 267, 'devaluing': 268, 'due': 269, 'but': 270, 'were': 271, 'nobody': 272, 'knew': 273, \"hasn't\": 274, 'happened': 275, \"it'll\": 276, 'happen': 277, 'one': 278, 'day': 279, 'ongoing': 280, 'between': 281, 'latest': 282, 'selloff': 283, 'down': 284}\n",
            "\n",
            "sequences =  [[79, 80, 81, 2, 43, 5, 18, 82, 44, 2, 45, 83, 84, 3, 4, 85, 86, 87, 3, 88, 14, 89, 46, 90, 19, 91, 92, 19, 47, 93, 46, 94, 19, 95, 96, 19, 5, 97, 43, 28, 18, 98, 48, 99, 1, 1], [1, 3, 4, 1, 1, 1, 1, 8, 15], [2, 3, 4, 6, 49, 2, 1, 6, 49, 1, 50, 1, 1, 9, 1, 1, 1, 29, 1, 7, 1, 2, 1, 1, 1, 51, 1, 52, 20], [30, 1, 6, 1, 1, 7, 1, 53, 2, 3, 4, 6, 1, 1, 1, 31, 21, 1, 54, 1, 2, 3, 4, 1, 14, 13, 55, 1, 5, 10, 11, 12, 2, 56, 32, 1, 22, 33, 2, 57, 1, 7, 1, 2, 1, 4, 6, 34, 35, 51, 1], [58, 1, 1, 1, 8, 58, 5, 2, 1, 5, 1, 3, 1, 1, 1, 12, 2, 1, 1, 1, 1, 2, 36, 23, 5, 2, 3, 4, 6, 1, 24, 59], [22, 37, 16, 60, 1, 3, 4, 1, 25, 2, 1, 1], [3, 4, 1, 61, 1, 1, 1, 23], [2, 3, 4, 13, 38, 26, 5, 10, 11, 12, 2, 1, 1, 2, 36, 23, 21, 8, 15, 28, 1, 26, 1, 1, 1, 35, 62, 5, 57, 59, 26], [27, 6, 1, 1, 1, 1, 1, 1, 2, 63, 64, 16, 3, 4, 21, 1, 10, 1, 1, 5, 60, 1, 1, 2, 1, 1, 50, 27, 1], [32, 65, 22, 33, 2, 3, 4, 14, 13, 55, 1, 5, 10, 11, 12, 2, 37, 16, 1, 66, 1, 17, 31, 67, 14, 1, 1, 1, 1, 1, 39, 9, 68, 3, 4, 1], [15, 1, 3, 4, 6, 1, 40, 35, 45, 1, 1], [41, 17, 41, 1, 25, 1, 1, 1, 3, 4, 24, 20, 1], [34, 2, 1, 11, 5, 2, 3, 4, 1, 1, 8, 1, 1, 1, 9, 63, 64, 1, 1, 48, 2, 1, 1, 1, 1, 25, 42, 1, 24, 1, 7, 3, 1, 1, 9, 2, 39, 8, 68, 1], [1, 1, 1, 1, 1, 1, 7, 2, 3, 4], [1, 6, 1, 7, 29, 1, 53, 1, 1, 8, 15, 1, 5, 1, 1, 54, 1, 1, 1, 1, 40, 1, 2, 3, 4, 13, 1, 26, 5, 10, 11, 12, 2, 16, 2, 1, 1, 9, 1, 1], [3, 1, 1, 1, 1, 1], [2, 3, 4, 13, 1, 5, 10, 11, 12, 2, 56, 1, 41, 1, 1, 1, 9, 1, 15, 1, 66, 1, 17, 1, 31, 67, 69, 1, 30, 2, 36, 23, 21, 70, 1, 62, 7, 38, 40, 42, 8, 1, 1], [32, 65, 22, 33, 2, 3, 4, 14, 13, 1, 38, 5, 10, 11, 12, 2, 37, 16], [71, 17, 2, 72, 5, 73, 74, 75, 1, 1, 1, 2, 3, 4, 70, 1, 47, 1, 1, 1], [39, 25, 1, 1, 44, 1, 61, 2, 3, 4, 1], [1, 27, 29, 1, 76, 2, 3, 4, 28, 1, 1, 7, 18, 77, 1, 69, 1, 77, 30, 18, 7, 52, 20, 9, 1, 1, 76, 27, 1, 1, 78, 1, 1, 1, 1], [71, 17, 2, 1, 72, 1, 73, 74, 75, 34, 2, 1, 1, 20, 6, 78, 1, 42, 24, 2, 3, 4]]\n",
            "\n",
            "padded_seq = \n",
            "[[ 0  0  0 ... 99  1  1]\n",
            " [ 0  0  0 ...  1  8 15]\n",
            " [ 0  0  0 ...  1 52 20]\n",
            " ...\n",
            " [ 0  0  0 ...  3  4  1]\n",
            " [ 0  0  0 ...  1  1  1]\n",
            " [ 0  0  0 ...  2  3  4]]\n"
          ]
        }
      ]
    },
    {
      "cell_type": "code",
      "source": [
        "# post padding\n",
        "post_pad = pad_sequences(sequences, padding='post')\n",
        "print(\"\\nword_index = \", word_index)\n",
        "print(\"\\nsequences = \", sequences)\n",
        "print(\"\\npadded_seq = \" )\n",
        "print(post_pad)"
      ],
      "metadata": {
        "colab": {
          "base_uri": "https://localhost:8080/"
        },
        "id": "xUfOCv7HF2BQ",
        "outputId": "3d073573-de00-41bf-e3fb-4de93c99cb51"
      },
      "execution_count": 46,
      "outputs": [
        {
          "output_type": "stream",
          "name": "stdout",
          "text": [
            "\n",
            "word_index =  {'<OOV>': 1, 'the': 2, 'turkish': 3, 'lira': 4, 'of': 5, 'is': 6, 'to': 7, 'in': 8, 'and': 9, 'its': 10, 'value': 11, 'against': 12, 'lost': 13, 'has': 14, 'turkey': 15, 'dollar': 16, 'on': 17, 'money': 18, 'billion': 19, 'bitcoin': 20, 'rate': 21, '1': 22, 'inflation': 23, 'than': 24, 'are': 25, 'percent': 26, 'it': 27, 'was': 28, 'be': 29, 'that': 30, 'interest': 31, 'since': 32, '2021': 33, 'with': 34, 'a': 35, 'official': 36, 'us': 37, '50': 38, 'turks': 39, 'or': 40, 'year': 41, 'more': 42, 'amount': 43, 'into': 44, 'new': 45, 'tl': 46, 'so': 47, 'from': 48, 'collapsing': 49, 'will': 50, 'currency': 51, 'buy': 52, 'about': 53, 'have': 54, '44': 55, 'usd': 56, 'only': 57, 'istanbul': 58, '20': 59, '13': 60, 'as': 61, 'rise': 62, 'u': 63, 's': 64, 'january': 65, \"erdogan's\": 66, 'rates': 67, 'their': 68, 'they': 69, 'would': 70, 'update': 71, 'race': 72, 'potentially': 73, 'worthless': 74, 'currencies': 75, 'if': 76, 'printing': 77, 'now': 78, 'live': 79, '—': 80, 'erdoğan': 81, 'put': 82, 'fx': 83, 'protected': 84, 'deposit': 85, 'system': 86, 'by': 87, 'citizens': 88, 'reached': 89, '203': 90, '14': 91, '9': 92, 'far': 93, '58': 94, '4': 95, '2': 96, 'this': 97, 'transferred': 98, 'foreign': 99, 'exchange': 100, 'accounts': 101, 'after': 102, 'depricated': 103, 'dramatically': 104, 'cat': 105, 'lovers': 106, 'peso': 107, 'banks': 108, 'seize': 109, 'assets': 110, \"they're\": 111, 'not': 112, 'gonna': 113, 'able': 114, 'afford': 115, 'equity': 116, 'hodl': 117, 'digital': 118, 'instead': 119, 'anyone': 120, 'still': 121, 'listening': 122, 'erdogan': 123, 'remarkable': 124, \"rte's\": 125, 'irrational': 126, 'ideas': 127, 'toasted': 128, 'which': 129, '7': 130, 'jan': 131, 'way': 132, 'save': 133, 'pathetic': 134, 'board': 135, 'blocking': 136, 'action': 137, 'today': 138, 'employees': 139, 'trendyol': 140, 'online': 141, 'commerce': 142, 'platform': 143, '11': 144, 'salary': 145, 'increase': 146, 'while': 147, 'higher': 148, '56': 149, 'where': 150, 'cheerful': 151, 'idiots': 152, 'firms': 153, 'minister': 154, 'sees': 155, 'limited': 156, 'uk': 157, 'pound': 158, '36': 159, 'yet': 160, 'bbc': 161, 'offered': 162, 'clear': 163, 'turkey’s': 164, 'economic': 165, 'management': 166, 'prioritizes': 167, 'keeping': 168, 'at': 169, 'current': 170, 'level': 171, '5': 172, 'until': 173, 'tourism': 174, 'season': 175, 'work': 176, '6': 177, 'president': 178, 'war': 179, 'created': 180, 'catastrophic': 181, 'collateral': 182, 'damage': 183, 'leaving': 184, 'bloodied': 185, 'how': 186, 'stabilized': 187, 'ponzi': 188, 'scheme': 189, 'you': 190, 'better': 191, 'off': 192, 'holding': 193, 'lmao': 194, 'relative': 195, 'dropping': 196, 'precipitously': 197, 'recent': 198, 'years': 199, 'euros': 200, 'dollars': 201, 'gleaned': 202, 'international': 203, 'mobile': 204, 'gaming': 205, 'market': 206, 'precious': 207, 'ever': 208, 'game': 209, 'developers': 210, 'employ': 211, 'friday': 212, 'when': 213, 'ethereum': 214, 'briefly': 215, 'became': 216, 'pegged': 217, 'sinan': 218, 'right': 219, 'worried': 220, 'his': 221, 'future': 222, 'hundreds': 223, 'top': 224, 'scholars': 225, 'been': 226, 'either': 227, 'sacked': 228, 'exiled': 229, 'imprisoned': 230, '70': 231, 'economy': 232, 'tanked': 233, 'poverty': 234, 'skyrocketed': 235, \"lira's\": 236, 'losses': 237, 'become': 238, \"bbva's\": 239, 'gains': 240, '40': 241, 'last': 242, 'finance': 243, 'experts': 244, 'inside': 245, 'outside': 246, 'blame': 247, 'insistence': 248, 'cutting': 249, 'forecast': 250, 'likely': 251, 'coming': 252, 'months': 253, 'nearly': 254, 'who': 255, 'would’ve': 256, 'thought': 257, 'seem': 258, 'rock': 259, 'solid': 260, 'stable': 261, 'rapidly': 262, 'buying': 263, 'cryptocurrency': 264, 'tumbles': 265, \"wouldn't\": 266, 'wild': 267, 'devaluing': 268, 'due': 269, 'but': 270, 'were': 271, 'nobody': 272, 'knew': 273, \"hasn't\": 274, 'happened': 275, \"it'll\": 276, 'happen': 277, 'one': 278, 'day': 279, 'ongoing': 280, 'between': 281, 'latest': 282, 'selloff': 283, 'down': 284}\n",
            "\n",
            "sequences =  [[79, 80, 81, 2, 43, 5, 18, 82, 44, 2, 45, 83, 84, 3, 4, 85, 86, 87, 3, 88, 14, 89, 46, 90, 19, 91, 92, 19, 47, 93, 46, 94, 19, 95, 96, 19, 5, 97, 43, 28, 18, 98, 48, 99, 1, 1], [1, 3, 4, 1, 1, 1, 1, 8, 15], [2, 3, 4, 6, 49, 2, 1, 6, 49, 1, 50, 1, 1, 9, 1, 1, 1, 29, 1, 7, 1, 2, 1, 1, 1, 51, 1, 52, 20], [30, 1, 6, 1, 1, 7, 1, 53, 2, 3, 4, 6, 1, 1, 1, 31, 21, 1, 54, 1, 2, 3, 4, 1, 14, 13, 55, 1, 5, 10, 11, 12, 2, 56, 32, 1, 22, 33, 2, 57, 1, 7, 1, 2, 1, 4, 6, 34, 35, 51, 1], [58, 1, 1, 1, 8, 58, 5, 2, 1, 5, 1, 3, 1, 1, 1, 12, 2, 1, 1, 1, 1, 2, 36, 23, 5, 2, 3, 4, 6, 1, 24, 59], [22, 37, 16, 60, 1, 3, 4, 1, 25, 2, 1, 1], [3, 4, 1, 61, 1, 1, 1, 23], [2, 3, 4, 13, 38, 26, 5, 10, 11, 12, 2, 1, 1, 2, 36, 23, 21, 8, 15, 28, 1, 26, 1, 1, 1, 35, 62, 5, 57, 59, 26], [27, 6, 1, 1, 1, 1, 1, 1, 2, 63, 64, 16, 3, 4, 21, 1, 10, 1, 1, 5, 60, 1, 1, 2, 1, 1, 50, 27, 1], [32, 65, 22, 33, 2, 3, 4, 14, 13, 55, 1, 5, 10, 11, 12, 2, 37, 16, 1, 66, 1, 17, 31, 67, 14, 1, 1, 1, 1, 1, 39, 9, 68, 3, 4, 1], [15, 1, 3, 4, 6, 1, 40, 35, 45, 1, 1], [41, 17, 41, 1, 25, 1, 1, 1, 3, 4, 24, 20, 1], [34, 2, 1, 11, 5, 2, 3, 4, 1, 1, 8, 1, 1, 1, 9, 63, 64, 1, 1, 48, 2, 1, 1, 1, 1, 25, 42, 1, 24, 1, 7, 3, 1, 1, 9, 2, 39, 8, 68, 1], [1, 1, 1, 1, 1, 1, 7, 2, 3, 4], [1, 6, 1, 7, 29, 1, 53, 1, 1, 8, 15, 1, 5, 1, 1, 54, 1, 1, 1, 1, 40, 1, 2, 3, 4, 13, 1, 26, 5, 10, 11, 12, 2, 16, 2, 1, 1, 9, 1, 1], [3, 1, 1, 1, 1, 1], [2, 3, 4, 13, 1, 5, 10, 11, 12, 2, 56, 1, 41, 1, 1, 1, 9, 1, 15, 1, 66, 1, 17, 1, 31, 67, 69, 1, 30, 2, 36, 23, 21, 70, 1, 62, 7, 38, 40, 42, 8, 1, 1], [32, 65, 22, 33, 2, 3, 4, 14, 13, 1, 38, 5, 10, 11, 12, 2, 37, 16], [71, 17, 2, 72, 5, 73, 74, 75, 1, 1, 1, 2, 3, 4, 70, 1, 47, 1, 1, 1], [39, 25, 1, 1, 44, 1, 61, 2, 3, 4, 1], [1, 27, 29, 1, 76, 2, 3, 4, 28, 1, 1, 7, 18, 77, 1, 69, 1, 77, 30, 18, 7, 52, 20, 9, 1, 1, 76, 27, 1, 1, 78, 1, 1, 1, 1], [71, 17, 2, 1, 72, 1, 73, 74, 75, 34, 2, 1, 1, 20, 6, 78, 1, 42, 24, 2, 3, 4]]\n",
            "\n",
            "padded_seq = \n",
            "[[79 80 81 ...  0  0  0]\n",
            " [ 1  3  4 ...  0  0  0]\n",
            " [ 2  3  4 ...  0  0  0]\n",
            " ...\n",
            " [39 25  1 ...  0  0  0]\n",
            " [ 1 27 29 ...  0  0  0]\n",
            " [71 17  2 ...  0  0  0]]\n"
          ]
        }
      ]
    },
    {
      "cell_type": "code",
      "source": [
        "import spacy\n",
        "from spacy import displacy\n",
        "nlp = spacy.load('en_core_web_sm')"
      ],
      "metadata": {
        "id": "zbLnB-ydGd8L"
      },
      "execution_count": 47,
      "outputs": []
    },
    {
      "cell_type": "code",
      "source": [
        "def get_entities(sent):\n",
        "  ## chunk 1\n",
        "  ent1 = \"\"\n",
        "  ent2 = \"\"\n",
        "\n",
        "  prv_tok_dep = \"\"    # dependency tag of previous token in the sentence\n",
        "  prv_tok_text = \"\"   # previous token in the sentence\n",
        "\n",
        "  prefix = \"\"\n",
        "  modifier = \"\"\n",
        "\n",
        "  #############################################################\n",
        "  \n",
        "  for tok in nlp(sent):\n",
        "    ## chunk 2\n",
        "    # if token is a punctuation mark then move on to the next token\n",
        "    if tok.dep_ != \"punct\":\n",
        "      # check: token is a compound word or not\n",
        "      if tok.dep_ == \"compound\":\n",
        "        prefix = tok.text\n",
        "        # if the previous word was also a 'compound' then add the current word to it\n",
        "        if prv_tok_dep == \"compound\":\n",
        "          prefix = prv_tok_text + \" \"+ tok.text\n",
        "      \n",
        "      # check: token is a modifier or not\n",
        "      if tok.dep_.endswith(\"mod\") == True:\n",
        "        modifier = tok.text\n",
        "        # if the previous word was also a 'compound' then add the current word to it\n",
        "        if prv_tok_dep == \"compound\":\n",
        "          modifier = prv_tok_text + \" \"+ tok.text\n",
        "      \n",
        "      ## chunk 3\n",
        "      if tok.dep_.find(\"subj\") == True:\n",
        "        ent1 = modifier +\" \"+ prefix + \" \"+ tok.text\n",
        "        prefix = \"\"\n",
        "        modifier = \"\"\n",
        "        prv_tok_dep = \"\"\n",
        "        prv_tok_text = \"\"      \n",
        "\n",
        "      ## chunk 4\n",
        "      if tok.dep_.find(\"obj\") == True:\n",
        "        ent2 = modifier +\" \"+ prefix +\" \"+ tok.text\n",
        "        \n",
        "      ## chunk 5  \n",
        "      # update variables\n",
        "      prv_tok_dep = tok.dep_\n",
        "      prv_tok_text = tok.text\n",
        "  #############################################################\n",
        "\n",
        "  return [ent1.strip(), ent2.strip()]"
      ],
      "metadata": {
        "id": "gI8Ygb3eHjZw"
      },
      "execution_count": 48,
      "outputs": []
    },
    {
      "cell_type": "code",
      "source": [
        "entity_pairs = []\n",
        "\n",
        "for i in sentences:\n",
        "  entity_pairs.append(get_entities(i))"
      ],
      "metadata": {
        "id": "Q51cjR-IHrok"
      },
      "execution_count": 50,
      "outputs": []
    },
    {
      "cell_type": "code",
      "source": [
        "entity_pairs"
      ],
      "metadata": {
        "colab": {
          "base_uri": "https://localhost:8080/"
        },
        "id": "PsDzBifNIeln",
        "outputId": "12ba26b2-827a-440e-c3a3-c5720f58558c"
      },
      "execution_count": 51,
      "outputs": [
        {
          "output_type": "execute_result",
          "data": {
            "text/plain": [
              "[['58 billion', 'foreign exchange accounts'],\n",
              " ['Turkish  lira', 'dramatically cat Turkey'],\n",
              " ['they', 'instead  bitcoin'],\n",
              " ['only  way', 'pathetic currency board'],\n",
              " ['official % salary inflation', '20 Turkish %'],\n",
              " ['cheerful US idiots', ''],\n",
              " ['Turkish lira firms', 'limited  inflation'],\n",
              " ['36  BBC', '20  percent'],\n",
              " ['current tourism it', 'current tourism season'],\n",
              " ['44.6 President war', 'collateral interest Turks'],\n",
              " ['Turkish  Lira', ''],\n",
              " ['Year  you', 'Turkish Bitcoin lmao'],\n",
              " ['gleaned', 'Turkish game employ'],\n",
              " ['when  Ethereum', 'briefly Turkish Lira'],\n",
              " ['poverty', '70  dollar'],\n",
              " ['Turkish  losses', ''],\n",
              " ['official inflation rate', 'coming  months'],\n",
              " ['Turkish  lira', '50 US dollar'],\n",
              " ['Turkish # Lira', '#  currencies'],\n",
              " ['Turks', 'rapidly Turkish Lira tumbles'],\n",
              " ['now  it', 'bitcoin'],\n",
              " ['latest  selloff', 'Turkish # Lira']]"
            ]
          },
          "metadata": {},
          "execution_count": 51
        }
      ]
    },
    {
      "cell_type": "code",
      "source": [
        "len(entity_pairs)"
      ],
      "metadata": {
        "colab": {
          "base_uri": "https://localhost:8080/"
        },
        "id": "qf2_DgeEIkxy",
        "outputId": "e6a4808f-81ca-4db4-a97c-7741cebe55df"
      },
      "execution_count": 52,
      "outputs": [
        {
          "output_type": "execute_result",
          "data": {
            "text/plain": [
              "22"
            ]
          },
          "metadata": {},
          "execution_count": 52
        }
      ]
    },
    {
      "cell_type": "code",
      "source": [
        "from spacy.matcher import Matcher \n",
        "from spacy.tokens import Span "
      ],
      "metadata": {
        "id": "EAgxmzjcI2tI"
      },
      "execution_count": 53,
      "outputs": []
    },
    {
      "cell_type": "code",
      "source": [
        "def get_relation(sent):\n",
        "\n",
        "  doc = nlp(sent)\n",
        "\n",
        "  # Matcher class object \n",
        "  matcher = Matcher(nlp.vocab)\n",
        "\n",
        "  #define the pattern \n",
        "  pattern = [{'DEP':'ROOT'}, \n",
        "            {'DEP':'prep','OP':\"?\"},\n",
        "            {'DEP':'agent','OP':\"?\"},  \n",
        "            {'POS':'ADJ','OP':\"?\"}] \n",
        "\n",
        "  matcher.add(\"matching_1\", None, pattern) \n",
        "\n",
        "  matches = matcher(doc)\n",
        "  k = len(matches) - 1\n",
        "\n",
        "  span = doc[matches[k][1]:matches[k][2]] \n",
        "\n",
        "  return(span.text)\n",
        "relations = [get_relation(i) for i in sentences]"
      ],
      "metadata": {
        "id": "hMq2KbwBIp-h"
      },
      "execution_count": 54,
      "outputs": []
    },
    {
      "cell_type": "code",
      "source": [
        "relations"
      ],
      "metadata": {
        "colab": {
          "base_uri": "https://localhost:8080/"
        },
        "id": "_gyR29RjI9GT",
        "outputId": "2639a9a5-531b-40b3-ed58-00445b025d1c"
      },
      "execution_count": 55,
      "outputs": [
        {
          "output_type": "execute_result",
          "data": {
            "text/plain": [
              "['was',\n",
              " 'lovers in',\n",
              " 'Buy',\n",
              " 'is with',\n",
              " 'blocking',\n",
              " 'are',\n",
              " 'sees limited',\n",
              " 'offered',\n",
              " 'work',\n",
              " 'created catastrophic',\n",
              " 'stabilized',\n",
              " 'are better',\n",
              " 'are',\n",
              " 'pegged to',\n",
              " 'tanked',\n",
              " 'become',\n",
              " 'forecast',\n",
              " 'lost',\n",
              " 'thought',\n",
              " 'buying into',\n",
              " 'happen',\n",
              " 'is']"
            ]
          },
          "metadata": {},
          "execution_count": 55
        }
      ]
    },
    {
      "cell_type": "code",
      "source": [
        "from collections import Counter"
      ],
      "metadata": {
        "id": "7-Vf94AtJB82"
      },
      "execution_count": 56,
      "outputs": []
    },
    {
      "cell_type": "code",
      "source": [
        "from pprint import pprint"
      ],
      "metadata": {
        "id": "3WmDj1CjJk0z"
      },
      "execution_count": 57,
      "outputs": []
    },
    {
      "cell_type": "code",
      "source": [
        "for i in range(len(sentences)):\n",
        "  doc = nlp(sentences[i])\n",
        "  pprint([(X.text, X.label_) for X in doc.ents])"
      ],
      "metadata": {
        "colab": {
          "base_uri": "https://localhost:8080/"
        },
        "id": "AeuI-CqTJZYi",
        "outputId": "f58de4e4-23be-4e73-defc-0e0f27e37c6f"
      },
      "execution_count": 58,
      "outputs": [
        {
          "output_type": "stream",
          "name": "stdout",
          "text": [
            "[('FX', 'GPE'),\n",
            " ('Turkish', 'NORP'),\n",
            " ('Turkish', 'NORP'),\n",
            " ('203 billion', 'MONEY'),\n",
            " ('$14.9 billion', 'MONEY'),\n",
            " ('58 billion', 'MONEY'),\n",
            " ('$4.2 billion', 'MONEY')]\n",
            "[('Turkish', 'NORP'), ('Turkey', 'GPE')]\n",
            "[('Turkish', 'NORP')]\n",
            "[('Erdogan', 'PERSON'),\n",
            " ('Turkish', 'NORP'),\n",
            " ('Turkish', 'NORP'),\n",
            " ('44.7%', 'PERCENT'),\n",
            " ('USD', 'ORG'),\n",
            " ('Jan 1, 2021', 'DATE')]\n",
            "[('today', 'DATE'),\n",
            " ('Istanbul', 'GPE'),\n",
            " ('Trendyol', 'ORG'),\n",
            " ('Turkish', 'NORP'),\n",
            " ('11%', 'PERCENT'),\n",
            " ('the Turkish Lira', 'EVENT'),\n",
            " ('higher than 20%', 'PERCENT')]\n",
            "[('1 US Dollar', 'MONEY'), ('13.56', 'CARDINAL'), ('Turkish', 'NORP')]\n",
            "[('Turkish', 'NORP')]\n",
            "[('Turkish', 'NORP'),\n",
            " ('50 percent', 'PERCENT'),\n",
            " ('UK', 'GPE'),\n",
            " ('Turkey', 'GPE'),\n",
            " ('36 percent', 'PERCENT'),\n",
            " ('BBC', 'ORG'),\n",
            " ('only 20 percent', 'PERCENT')]\n",
            "[('Turkey', 'GPE'),\n",
            " ('U.S.', 'GPE'),\n",
            " ('Turkish', 'NORP'),\n",
            " ('13.5', 'CARDINAL'),\n",
            " ('the tourism season', 'DATE')]\n",
            "[('January 1, 2021', 'DATE'),\n",
            " ('Turkish', 'NORP'),\n",
            " ('44.6%', 'PERCENT'),\n",
            " ('US', 'GPE'),\n",
            " ('Erdogan', 'PERSON'),\n",
            " ('Turks', 'NORP'),\n",
            " ('Turkish', 'NORP')]\n",
            "[('TURKEY', 'ORG'), ('Turkish', 'NORP'), ('Ponzi', 'PERSON')]\n",
            "[('Year on year', 'DATE'), ('Turkish', 'NORP'), ('Bitcoin', 'GPE')]\n",
            "[('Turkish', 'NORP'),\n",
            " ('recent years', 'DATE'),\n",
            " ('euros', 'ORG'),\n",
            " ('U.S.', 'GPE'),\n",
            " ('Turkish', 'NORP'),\n",
            " ('Turks', 'NORP')]\n",
            "[('Friday', 'DATE'), ('Turkish', 'NORP')]\n",
            "[('Sinan', 'PERSON'),\n",
            " ('Turkey', 'GPE'),\n",
            " ('hundreds', 'CARDINAL'),\n",
            " ('Turkish', 'NORP'),\n",
            " ('70 percent', 'PERCENT')]\n",
            "[('Turkish', 'NORP')]\n",
            "[('Turkish', 'NORP'),\n",
            " ('40%+', 'CARDINAL'),\n",
            " ('USD', 'ORG'),\n",
            " ('last year', 'DATE'),\n",
            " ('Turkey', 'GPE'),\n",
            " ('Erdogan', 'PERSON'),\n",
            " ('50%', 'PERCENT'),\n",
            " ('coming months', 'DATE')]\n",
            "[('January 1, 2021', 'DATE'),\n",
            " ('Turkish', 'NORP'),\n",
            " ('nearly 50%', 'PERCENT'),\n",
            " ('US', 'GPE')]\n",
            "[('Turkish', 'NORP'), ('Lira', 'PERSON')]\n",
            "[('Turks', 'NORP'), ('Turkish', 'NORP'), ('Lira', 'PERSON')]\n",
            "[('Turkish', 'NORP'), ('one day', 'DATE')]\n",
            "[('Bitcoin', 'PERSON'), ('Turkish', 'NORP')]\n"
          ]
        }
      ]
    },
    {
      "cell_type": "code",
      "source": [
        "for i in range(len(sentences)):\n",
        "  doc = nlp(sentences[i])\n",
        "  pprint([(X, X.ent_iob_, X.ent_type_) for X in doc])"
      ],
      "metadata": {
        "id": "nLhMrDOqKRzx"
      },
      "execution_count": null,
      "outputs": []
    },
    {
      "cell_type": "code",
      "source": [
        "ent_dict=dict([(str(x), x.label_) for x in nlp(str(sentences[0])).ents])"
      ],
      "metadata": {
        "id": "sRD2aq0gKWFJ"
      },
      "execution_count": 60,
      "outputs": []
    },
    {
      "cell_type": "code",
      "source": [
        "ent_dict"
      ],
      "metadata": {
        "colab": {
          "base_uri": "https://localhost:8080/"
        },
        "id": "XAEMwOY0Kvmv",
        "outputId": "34b094a6-1899-49e9-f91e-2529bc9e0b0c"
      },
      "execution_count": 61,
      "outputs": [
        {
          "output_type": "execute_result",
          "data": {
            "text/plain": [
              "{'$14.9 billion': 'MONEY',\n",
              " '$4.2 billion': 'MONEY',\n",
              " '203 billion': 'MONEY',\n",
              " '58 billion': 'MONEY',\n",
              " 'FX': 'GPE',\n",
              " 'Turkish': 'NORP'}"
            ]
          },
          "metadata": {},
          "execution_count": 61
        }
      ]
    },
    {
      "cell_type": "code",
      "source": [
        "sentence = nlp(sentences[0])"
      ],
      "metadata": {
        "id": "IitToI9KY9d8"
      },
      "execution_count": 66,
      "outputs": []
    },
    {
      "cell_type": "code",
      "source": [
        "displacy.render(sentence, jupyter=True, style='ent')"
      ],
      "metadata": {
        "colab": {
          "base_uri": "https://localhost:8080/",
          "height": 87
        },
        "id": "ZEa1bC31Ky5Z",
        "outputId": "cf9da6c7-9acb-4b9a-acc1-33b1a8012ebe"
      },
      "execution_count": 67,
      "outputs": [
        {
          "output_type": "display_data",
          "data": {
            "text/html": [
              "<span class=\"tex2jax_ignore\"><div class=\"entities\" style=\"line-height: 2.5; direction: ltr\">LIVE — Erdoğan: The amount of money put into the new \n",
              "<mark class=\"entity\" style=\"background: #feca74; padding: 0.45em 0.6em; margin: 0 0.25em; line-height: 1; border-radius: 0.35em;\">\n",
              "    FX\n",
              "    <span style=\"font-size: 0.8em; font-weight: bold; line-height: 1; border-radius: 0.35em; text-transform: uppercase; vertical-align: middle; margin-left: 0.5rem\">GPE</span>\n",
              "</mark>\n",
              "-protected \n",
              "<mark class=\"entity\" style=\"background: #c887fb; padding: 0.45em 0.6em; margin: 0 0.25em; line-height: 1; border-radius: 0.35em;\">\n",
              "    Turkish\n",
              "    <span style=\"font-size: 0.8em; font-weight: bold; line-height: 1; border-radius: 0.35em; text-transform: uppercase; vertical-align: middle; margin-left: 0.5rem\">NORP</span>\n",
              "</mark>\n",
              " lira deposit system by \n",
              "<mark class=\"entity\" style=\"background: #c887fb; padding: 0.45em 0.6em; margin: 0 0.25em; line-height: 1; border-radius: 0.35em;\">\n",
              "    Turkish\n",
              "    <span style=\"font-size: 0.8em; font-weight: bold; line-height: 1; border-radius: 0.35em; text-transform: uppercase; vertical-align: middle; margin-left: 0.5rem\">NORP</span>\n",
              "</mark>\n",
              " citizens has reached TL \n",
              "<mark class=\"entity\" style=\"background: #e4e7d2; padding: 0.45em 0.6em; margin: 0 0.25em; line-height: 1; border-radius: 0.35em;\">\n",
              "    203 billion\n",
              "    <span style=\"font-size: 0.8em; font-weight: bold; line-height: 1; border-radius: 0.35em; text-transform: uppercase; vertical-align: middle; margin-left: 0.5rem\">MONEY</span>\n",
              "</mark>\n",
              " (\n",
              "<mark class=\"entity\" style=\"background: #e4e7d2; padding: 0.45em 0.6em; margin: 0 0.25em; line-height: 1; border-radius: 0.35em;\">\n",
              "    $14.9 billion\n",
              "    <span style=\"font-size: 0.8em; font-weight: bold; line-height: 1; border-radius: 0.35em; text-transform: uppercase; vertical-align: middle; margin-left: 0.5rem\">MONEY</span>\n",
              "</mark>\n",
              ") so far; TL \n",
              "<mark class=\"entity\" style=\"background: #e4e7d2; padding: 0.45em 0.6em; margin: 0 0.25em; line-height: 1; border-radius: 0.35em;\">\n",
              "    58 billion\n",
              "    <span style=\"font-size: 0.8em; font-weight: bold; line-height: 1; border-radius: 0.35em; text-transform: uppercase; vertical-align: middle; margin-left: 0.5rem\">MONEY</span>\n",
              "</mark>\n",
              " (\n",
              "<mark class=\"entity\" style=\"background: #e4e7d2; padding: 0.45em 0.6em; margin: 0 0.25em; line-height: 1; border-radius: 0.35em;\">\n",
              "    $4.2 billion\n",
              "    <span style=\"font-size: 0.8em; font-weight: bold; line-height: 1; border-radius: 0.35em; text-transform: uppercase; vertical-align: middle; margin-left: 0.5rem\">MONEY</span>\n",
              "</mark>\n",
              ") of this amount was money transferred from foreign exchange accounts</div></span>"
            ],
            "text/plain": [
              "<IPython.core.display.HTML object>"
            ]
          },
          "metadata": {}
        }
      ]
    },
    {
      "cell_type": "code",
      "source": [
        "sentence = nlp(sentences[7])\n",
        "displacy.render(sentence, jupyter=True, style='ent')"
      ],
      "metadata": {
        "colab": {
          "base_uri": "https://localhost:8080/",
          "height": 87
        },
        "id": "CcFpU5vcZKqd",
        "outputId": "f88fdb29-09a6-4e99-deb4-6f65925e8276"
      },
      "execution_count": 68,
      "outputs": [
        {
          "output_type": "display_data",
          "data": {
            "text/html": [
              "<span class=\"tex2jax_ignore\"><div class=\"entities\" style=\"line-height: 2.5; direction: ltr\">The \n",
              "<mark class=\"entity\" style=\"background: #c887fb; padding: 0.45em 0.6em; margin: 0 0.25em; line-height: 1; border-radius: 0.35em;\">\n",
              "    Turkish\n",
              "    <span style=\"font-size: 0.8em; font-weight: bold; line-height: 1; border-radius: 0.35em; text-transform: uppercase; vertical-align: middle; margin-left: 0.5rem\">NORP</span>\n",
              "</mark>\n",
              " lira lost \n",
              "<mark class=\"entity\" style=\"background: #e4e7d2; padding: 0.45em 0.6em; margin: 0 0.25em; line-height: 1; border-radius: 0.35em;\">\n",
              "    50 percent\n",
              "    <span style=\"font-size: 0.8em; font-weight: bold; line-height: 1; border-radius: 0.35em; text-transform: uppercase; vertical-align: middle; margin-left: 0.5rem\">PERCENT</span>\n",
              "</mark>\n",
              " of its value against the \n",
              "<mark class=\"entity\" style=\"background: #feca74; padding: 0.45em 0.6em; margin: 0 0.25em; line-height: 1; border-radius: 0.35em;\">\n",
              "    UK\n",
              "    <span style=\"font-size: 0.8em; font-weight: bold; line-height: 1; border-radius: 0.35em; text-transform: uppercase; vertical-align: middle; margin-left: 0.5rem\">GPE</span>\n",
              "</mark>\n",
              " pound. The official inflation rate in \n",
              "<mark class=\"entity\" style=\"background: #feca74; padding: 0.45em 0.6em; margin: 0 0.25em; line-height: 1; border-radius: 0.35em;\">\n",
              "    Turkey\n",
              "    <span style=\"font-size: 0.8em; font-weight: bold; line-height: 1; border-radius: 0.35em; text-transform: uppercase; vertical-align: middle; margin-left: 0.5rem\">GPE</span>\n",
              "</mark>\n",
              " was \n",
              "<mark class=\"entity\" style=\"background: #e4e7d2; padding: 0.45em 0.6em; margin: 0 0.25em; line-height: 1; border-radius: 0.35em;\">\n",
              "    36 percent\n",
              "    <span style=\"font-size: 0.8em; font-weight: bold; line-height: 1; border-radius: 0.35em; text-transform: uppercase; vertical-align: middle; margin-left: 0.5rem\">PERCENT</span>\n",
              "</mark>\n",
              ". Yet \n",
              "<mark class=\"entity\" style=\"background: #7aecec; padding: 0.45em 0.6em; margin: 0 0.25em; line-height: 1; border-radius: 0.35em;\">\n",
              "    BBC\n",
              "    <span style=\"font-size: 0.8em; font-weight: bold; line-height: 1; border-radius: 0.35em; text-transform: uppercase; vertical-align: middle; margin-left: 0.5rem\">ORG</span>\n",
              "</mark>\n",
              " offered a rise of \n",
              "<mark class=\"entity\" style=\"background: #e4e7d2; padding: 0.45em 0.6em; margin: 0 0.25em; line-height: 1; border-radius: 0.35em;\">\n",
              "    only 20 percent\n",
              "    <span style=\"font-size: 0.8em; font-weight: bold; line-height: 1; border-radius: 0.35em; text-transform: uppercase; vertical-align: middle; margin-left: 0.5rem\">PERCENT</span>\n",
              "</mark>\n",
              "</div></span>"
            ],
            "text/plain": [
              "<IPython.core.display.HTML object>"
            ]
          },
          "metadata": {}
        }
      ]
    },
    {
      "cell_type": "code",
      "source": [
        "nlp = spacy.load('en_core_web_sm')\n",
        "\n",
        "for tok in sentence:\n",
        "  print(tok.text, \"...\", tok.dep_)"
      ],
      "metadata": {
        "colab": {
          "base_uri": "https://localhost:8080/"
        },
        "id": "HX2K2y-1ZhGA",
        "outputId": "e6da3c1e-de62-47e5-a2ef-22a865f7b878"
      },
      "execution_count": 70,
      "outputs": [
        {
          "output_type": "stream",
          "name": "stdout",
          "text": [
            "The ... det\n",
            "Turkish ... amod\n",
            "lira ... nsubj\n",
            "lost ... ROOT\n",
            "50 ... nummod\n",
            "percent ... dobj\n",
            "of ... prep\n",
            "its ... poss\n",
            "value ... pobj\n",
            "against ... prep\n",
            "the ... det\n",
            "UK ... compound\n",
            "pound ... pobj\n",
            ". ... punct\n",
            "The ... det\n",
            "official ... amod\n",
            "inflation ... compound\n",
            "rate ... nsubj\n",
            "in ... prep\n",
            "Turkey ... pobj\n",
            "was ... ROOT\n",
            "36 ... nummod\n",
            "percent ... attr\n",
            ". ... punct\n",
            "Yet ... cc\n",
            "BBC ... nsubj\n",
            "offered ... ROOT\n",
            "a ... det\n",
            "rise ... dobj\n",
            "of ... prep\n",
            "only ... advmod\n",
            "20 ... nummod\n",
            "percent ... pobj\n"
          ]
        }
      ]
    },
    {
      "cell_type": "code",
      "source": [
        "import pandas as pd"
      ],
      "metadata": {
        "id": "p9KS94pcaF-Q"
      },
      "execution_count": 71,
      "outputs": []
    },
    {
      "cell_type": "code",
      "source": [
        "source = [i[0] for i in entity_pairs]\n",
        "\n",
        "# extract object\n",
        "target = [i[1] for i in entity_pairs]\n",
        "\n",
        "kg_df = pd.DataFrame({'source':source, 'target':target, 'edge':relations})"
      ],
      "metadata": {
        "id": "lN2IoTy1aRgs"
      },
      "execution_count": 72,
      "outputs": []
    },
    {
      "cell_type": "code",
      "source": [
        "import matplotlib.pyplot as plt\n",
        "import networkx as nx\n",
        "G=nx.from_pandas_edgelist(kg_df, \"source\", \"target\", \n",
        "                          edge_attr=True, create_using=nx.MultiDiGraph())\n",
        "plt.figure(figsize=(12,12))\n",
        "\n",
        "pos = nx.spring_layout(G)\n",
        "nx.draw(G, with_labels=True, node_color='skyblue', edge_cmap=plt.cm.Blues, pos = pos)\n",
        "plt.show()"
      ],
      "metadata": {
        "colab": {
          "base_uri": "https://localhost:8080/",
          "height": 895
        },
        "id": "tep_ogCqaSl9",
        "outputId": "d805cbdb-e979-4baa-b2a9-575d3a03eaa0"
      },
      "execution_count": 75,
      "outputs": [
        {
          "output_type": "display_data",
          "data": {
            "image/png": "[encoded data removed]",
            "text/plain": [
              "<Figure size 864x864 with 1 Axes>"
            ]
          },
          "metadata": {}
        }
      ]
    }
  ]
}